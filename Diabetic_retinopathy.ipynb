{
 "cells": [
  {
   "cell_type": "markdown",
   "metadata": {},
   "source": [
    "###For Diabetic retinopathy"
   ]
  },
  {
   "cell_type": "code",
   "execution_count": 2,
   "metadata": {},
   "outputs": [
    {
     "name": "stderr",
     "output_type": "stream",
     "text": [
      "Using TensorFlow backend.\n"
     ]
    }
   ],
   "source": [
    "import numpy as np\n",
    "import os\n",
    "import cv2\n",
    "#import sklearn\n",
    "import tensorflow as tf\n",
    "import itertools\n",
    "import csv\n",
    "import keras\n",
    "import time\n",
    "\n",
    "current_date = time.strftime(\"%d_%m_%Y_\")\n",
    "\n",
    "import matplotlib\n",
    "import matplotlib.pyplot as plt\n",
    "%matplotlib inline  \n",
    "\n",
    "gpu_options = tf.GPUOptions(per_process_gpu_memory_fraction=0.9)\n"
   ]
  },
  {
   "cell_type": "code",
   "execution_count": 4,
   "metadata": {},
   "outputs": [],
   "source": [
    "#import keras and sklearn layers here\n",
    "from keras.models import Sequential\n",
    "from keras.layers import Flatten, Dense, Lambda,Activation,Dropout\n",
    "from keras.layers.convolutional import Convolution2D as Conv2D\n",
    "from keras.layers.convolutional import MaxPooling2D as Mpool2D\n",
    "from keras.layers.normalization import BatchNormalization\n",
    "import keras.backend.tensorflow_backend as KTF\n",
    "from keras.layers.advanced_activations import LeakyReLU, PReLU\n",
    "from keras.activations import relu\n",
    "from keras.layers import Flatten, Dense, Lambda,Cropping2D,Activation,Dropout,ELU\n",
    "#from sklearn.model_selection import train_test_split\n",
    "from keras.callbacks import EarlyStopping\n",
    "from keras import regularizers\n",
    "from keras.regularizers import l2,l1\n",
    "from keras.callbacks import EarlyStopping\n",
    "from keras.callbacks import ModelCheckpoint\n",
    "from keras import regularizers\n",
    "from keras.regularizers import l2,l1\n",
    "from keras import backend as K\n",
    "from keras.utils.data_utils import get_file\n",
    "from keras.layers import Input, merge, Dropout, Dense, Flatten, Activation\n",
    "from keras.layers.convolutional import MaxPooling2D, Convolution2D, AveragePooling2D\n",
    "from keras.layers.normalization import BatchNormalization\n",
    "from keras.models import Model\n",
    "from random import shuffle\n"
   ]
  },
  {
   "cell_type": "code",
   "execution_count": 8,
   "metadata": {},
   "outputs": [],
   "source": [
    "import numpy as np\n",
    "#import pandas as pd\n",
    "import os\n",
    "import cv2\n",
    "#import sklearn\n",
    "import itertools\n",
    "import keras\n",
    "import time\n",
    "keras.__version__\n",
    "\n",
    "#import keras and sklearn layers here\n",
    "from keras.models import load_model\n",
    "from keras import applications\n",
    "from keras.models import Sequential\n",
    "from keras.layers import Flatten, Dense, Lambda,Activation,Dropout\n",
    "from keras.layers.convolutional import Convolution2D as Conv2D\n",
    "from keras.layers.convolutional import MaxPooling2D #as Mpool2D\n",
    "from keras.layers.convolutional import AveragePooling2D as AvgPool2D\n",
    "from keras.layers.pooling import GlobalAveragePooling2D\n",
    "from keras.layers.normalization import BatchNormalization\n",
    "import keras.backend.tensorflow_backend as KTF\n",
    "from keras.layers.advanced_activations import LeakyReLU, PReLU\n",
    "from keras.layers import Flatten, Dense, Lambda,Cropping2D,Activation,Dropout,ELU\n",
    "#from sklearn.model_selection import train_test_split\n",
    "from keras.callbacks import EarlyStopping\n",
    "from keras.callbacks import ModelCheckpoint\n",
    "from keras.models import load_model\n",
    "from keras import regularizers\n",
    "from keras.regularizers import l2,l1\n",
    "#from utils.model_utils import *\n",
    "\n",
    "#os.getcwd()"
   ]
  },
  {
   "cell_type": "code",
   "execution_count": 9,
   "metadata": {},
   "outputs": [
    {
     "data": {
      "text/plain": [
       "'2.2.2'"
      ]
     },
     "execution_count": 9,
     "metadata": {},
     "output_type": "execute_result"
    }
   ],
   "source": [
    "import keras as k\n",
    "k.__version__"
   ]
  },
  {
   "cell_type": "code",
   "execution_count": 27,
   "metadata": {},
   "outputs": [
    {
     "name": "stdout",
     "output_type": "stream",
     "text": [
      "len(train_samples): 449\n",
      "len(validation_samples): 133\n"
     ]
    }
   ],
   "source": [
    "\n",
    "TRAINED_MODEL_FILE_NAME = \"path_to_model/DR-epoch-{epoch:2d}-val_acc-{val_acc:.2f}-val_loss-{val_loss:.2f}.h5\"\n",
    "\n",
    "#Read train and validation data\n",
    "train_samples = []\n",
    "validation_samples = []\n",
    "\n",
    "\n",
    "samples1 = []\n",
    "samples2 = []\n",
    "path1 = \"Path to train\"\n",
    "listing1 = os.listdir(path1)  \n",
    "for file1 in listing1:\n",
    "    samples1.append(file1)\n",
    "\n",
    "\n",
    "path2 = \"Path to validation\"\n",
    "listing2 = os.listdir(path2)  \n",
    "for file2 in listing2:\n",
    "    samples2.append(file2)\n",
    "\n",
    "\n",
    "num_classes = 2\n",
    "print(\"len(train_samples):\", len(samples1))\n",
    "print(\"len(validation_samples):\", len(samples2))\n"
   ]
  },
  {
   "cell_type": "code",
   "execution_count": null,
   "metadata": {},
   "outputs": [],
   "source": [
    "from random import shuffle\n",
    "train_samples = list()\n",
    "validation_samples = list()\n",
    "\n",
    "for root, directories, files in os.walk(path1):\n",
    "    for filename in files:\n",
    "        train_samples.append(filename)\n",
    "\n",
    "        \n",
    "for root, directories, files in os.walk(path2):\n",
    "    for filename in files:\n",
    "        validation_samples.append(filename)\n",
    "\n",
    "print(\"Before Shuffiling Train  \" + train_samples[20])\n",
    "shuffle(train_samples)\n",
    "print(\"After Shuffiling  Train  \" + train_samples[20])\n",
    "\n",
    "print(\"Before Shuffiling Val    \" + validation_samples[20])\n",
    "shuffle(validation_samples)\n",
    "print(\"After Shuffiling  Val    \" + validation_samples[20])"
   ]
  },
  {
   "cell_type": "code",
   "execution_count": 30,
   "metadata": {},
   "outputs": [],
   "source": [
    "#train_samples, validation_samples = train_test_split(samples, test_size=0.2)\n",
    "\n",
    "def generator(samples, batch_size,src):\n",
    "    num_samples = len(samples)\n",
    "    while 1: # Loop forever so the generator never terminates\n",
    "        #shuffle(samples)\n",
    "        for offset in range(0, num_samples, batch_size):\n",
    "            batch_samples = samples[offset:offset+batch_size]\n",
    "                \n",
    "            images = []\n",
    "            labels = []\n",
    "            for batch_sample in batch_samples:\n",
    "                #name = batch_sample.split('_')[1]\n",
    "                #print(\"name:\",batch_sample)\n",
    "                image = cv2.imread(src+batch_sample)\n",
    "                \n",
    "                image = cv2.resize(image, (300,300))\n",
    "                #plt.imshow(image)\n",
    "                image = image.reshape(300,300,3)\n",
    "                label = batch_sample.split('_')[0]\n",
    "                if(label == \"Diabetic_retinopathy\"):\n",
    "                    label = 0\n",
    "                if(label == \"healthy\"):\n",
    "                    label = 1\n",
    "                \n",
    "                \n",
    "                images.append(image)\n",
    "                labels.append(label)\n",
    "            #print(labels)\n",
    "\n",
    "            # trim image to only see section with road\n",
    "            X_train = np.array(images)\n",
    "            y_train = np.array(labels)\n",
    "            y_train = keras.utils.np_utils.to_categorical(y_train, num_classes)\n",
    "            yield sklearn.utils.shuffle(X_train, y_train)\n"
   ]
  },
  {
   "cell_type": "code",
   "execution_count": 31,
   "metadata": {},
   "outputs": [],
   "source": [
    "#X_train,y_train = sklearn.utils.shuffle(X_train,y_train)\n",
    "train_generator = generator(samples1, batch_size=8,src = path1)\n",
    "validation_generator = generator(samples2, batch_size=8,src = path2)"
   ]
  },
  {
   "cell_type": "code",
   "execution_count": 58,
   "metadata": {},
   "outputs": [],
   "source": [
    "def auc_roc(y_true, y_pred):\n",
    "    # any tensorflow metric\n",
    "    value, update_op = tf.contrib.metrics.streaming_auc(y_pred, y_true)\n",
    "\n",
    "    # find all variables created for this metric\n",
    "    metric_vars = [i for i in tf.local_variables() if 'auc_roc' in i.name.split('/')[1]]\n",
    "\n",
    "    # Add metric variables to GLOBAL_VARIABLES collection.\n",
    "    # They will be initialized for new session.\n",
    "    for v in metric_vars:\n",
    "        tf.add_to_collection(tf.GraphKeys.GLOBAL_VARIABLES, v)\n",
    "\n",
    "    # force to update metric values\n",
    "    with tf.control_dependencies([update_op]):\n",
    "        value = tf.identity(value)\n",
    "        return value"
   ]
  },
  {
   "cell_type": "code",
   "execution_count": 61,
   "metadata": {},
   "outputs": [],
   "source": [
    "x = (300,300,3)\n",
    "model = Sequential()\n",
    "model.add(Conv2D(32, (3, 3),activation=\"relu\",input_shape=(300, 300, 3), data_format=\"channels_last\", padding=\"same\", kernel_initializer=\"glorot_normal\", name=\"conv_1_1\"))\n",
    "model.add(BatchNormalization())\n",
    "model.add(Conv2D(32, (3, 3),activation=\"relu\",input_shape=(300, 300, 3), data_format=\"channels_last\", padding=\"same\", kernel_initializer=\"glorot_normal\", name=\"conv_1_4\"))\n",
    "model.add(MaxPooling2D(pool_size=(2, 2), data_format=\"channels_last\", name=\"maxpool_1_1\"))\n",
    "model.add(Conv2D(64, (1, 1), activation=\"relu\",data_format=\"channels_last\", padding=\"valid\", kernel_initializer=\"glorot_normal\", name=\"conv_1_2\"))\n",
    "model.add(BatchNormalization())\n",
    "model.add(Conv2D(64, (1, 1),activation=\"relu\", data_format=\"channels_last\", padding=\"valid\", kernel_initializer=\"glorot_normal\", name=\"conv_1_3\"))\n",
    "model.add(BatchNormalization())\n",
    "model.add(MaxPooling2D(pool_size=(2, 2), data_format=\"channels_last\", name=\"maxpool_1_2\"))\n",
    "model.add(Dropout(0.3, name=\"dropout_1_1\"))\n",
    "model.add(Conv2D(128, (3, 3),activation=\"relu\", data_format=\"channels_last\", padding=\"same\", kernel_initializer=\"glorot_normal\", name=\"conv_2_1\"))\n",
    "model.add(BatchNormalization())\n",
    "model.add(Conv2D(128, (1, 1),activation=\"relu\", data_format=\"channels_last\", padding=\"valid\", kernel_initializer=\"glorot_normal\", name=\"conv_2_2\"))\n",
    "model.add(BatchNormalization())\n",
    "model.add(Conv2D(128, (1, 1),activation=\"relu\", data_format=\"channels_last\", padding=\"valid\", kernel_initializer=\"glorot_normal\", name=\"conv_2_3\"))\n",
    "model.add(BatchNormalization())\n",
    "model.add(MaxPooling2D(pool_size=(2, 2),data_format=\"channels_last\", name=\"maxpool2_1\"))\n",
    "model.add(Conv2D(256, (3, 3),activation=\"relu\", data_format=\"channels_last\", padding=\"same\", kernel_initializer=\"glorot_normal\", name=\"conv_3_1\"))\n",
    "model.add(BatchNormalization())\n",
    "model.add(Conv2D(256, (1, 1),activation=\"relu\", data_format=\"channels_last\", padding=\"valid\", kernel_initializer=\"glorot_normal\", name=\"conv_3_2\"))\n",
    "model.add(BatchNormalization())\n",
    "model.add(Conv2D(256, (1, 1),activation=\"relu\", data_format=\"channels_last\", padding=\"valid\", kernel_initializer=\"glorot_normal\", name=\"conv_3_3\"))\n",
    "model.add(BatchNormalization())\n",
    "model.add(MaxPooling2D(pool_size=(2, 2),data_format=\"channels_last\", name=\"maxpool_3_1\"))\n",
    "model.add(Dropout(0.5, name=\"dropout_3_1\"))\n",
    "model.add(Conv2D(512, (3, 3), activation=\"relu\",data_format=\"channels_last\", padding=\"same\", kernel_initializer=\"glorot_normal\", name=\"conv_4_1\"))\n",
    "model.add(BatchNormalization())\n",
    "model.add(Conv2D(512, (1, 1),activation=\"relu\", data_format=\"channels_last\", padding=\"valid\", kernel_initializer=\"glorot_normal\", name=\"conv_4_2\"))\n",
    "model.add(BatchNormalization())\n",
    "model.add(Conv2D(512, (1, 1),activation=\"relu\", data_format=\"channels_last\", padding=\"valid\", kernel_initializer=\"glorot_normal\", name=\"conv_4_3\"))\n",
    "model.add(BatchNormalization())\n",
    "model.add(MaxPooling2D(pool_size=(2, 2),data_format=\"channels_last\", name=\"maxpool_4_1\"))\n",
    "model.add(Dropout(0.3, name=\"dropout_4_1\"))\n",
    "model.add(Conv2D(3, (1, 1),activation=\"relu\", padding=\"valid\", kernel_initializer=\"glorot_normal\", data_format=\"channels_last\", name=\"conv_5_1\"))\n",
    "model.add(BatchNormalization())\n",
    "model.add(GlobalAveragePooling2D(data_format=\"channels_last\",name=\"global_avg_pooling\"))\n",
    "model.add(Dense(3,name=\"FC_5_1\"))  \n",
    "model.add(Activation('softmax', name=\"softmax_5_1\"))"
   ]
  },
  {
   "cell_type": "code",
   "execution_count": 62,
   "metadata": {},
   "outputs": [
    {
     "name": "stdout",
     "output_type": "stream",
     "text": [
      "_________________________________________________________________\n",
      "Layer (type)                 Output Shape              Param #   \n",
      "=================================================================\n",
      "conv_1_1 (Conv2D)            (None, 300, 300, 32)      896       \n",
      "_________________________________________________________________\n",
      "batch_normalization_80 (Batc (None, 300, 300, 32)      128       \n",
      "_________________________________________________________________\n",
      "conv_1_4 (Conv2D)            (None, 300, 300, 32)      9248      \n",
      "_________________________________________________________________\n",
      "maxpool_1_1 (MaxPooling2D)   (None, 150, 150, 32)      0         \n",
      "_________________________________________________________________\n",
      "conv_1_2 (Conv2D)            (None, 150, 150, 64)      2112      \n",
      "_________________________________________________________________\n",
      "batch_normalization_81 (Batc (None, 150, 150, 64)      256       \n",
      "_________________________________________________________________\n",
      "conv_1_3 (Conv2D)            (None, 150, 150, 64)      4160      \n",
      "_________________________________________________________________\n",
      "batch_normalization_82 (Batc (None, 150, 150, 64)      256       \n",
      "_________________________________________________________________\n",
      "maxpool_1_2 (MaxPooling2D)   (None, 75, 75, 64)        0         \n",
      "_________________________________________________________________\n",
      "dropout_1_1 (Dropout)        (None, 75, 75, 64)        0         \n",
      "_________________________________________________________________\n",
      "conv_2_1 (Conv2D)            (None, 75, 75, 128)       73856     \n",
      "_________________________________________________________________\n",
      "batch_normalization_83 (Batc (None, 75, 75, 128)       512       \n",
      "_________________________________________________________________\n",
      "conv_2_2 (Conv2D)            (None, 75, 75, 128)       16512     \n",
      "_________________________________________________________________\n",
      "batch_normalization_84 (Batc (None, 75, 75, 128)       512       \n",
      "_________________________________________________________________\n",
      "conv_2_3 (Conv2D)            (None, 75, 75, 128)       16512     \n",
      "_________________________________________________________________\n",
      "batch_normalization_85 (Batc (None, 75, 75, 128)       512       \n",
      "_________________________________________________________________\n",
      "maxpool2_1 (MaxPooling2D)    (None, 37, 37, 128)       0         \n",
      "_________________________________________________________________\n",
      "conv_3_1 (Conv2D)            (None, 37, 37, 256)       295168    \n",
      "_________________________________________________________________\n",
      "batch_normalization_86 (Batc (None, 37, 37, 256)       1024      \n",
      "_________________________________________________________________\n",
      "conv_3_2 (Conv2D)            (None, 37, 37, 256)       65792     \n",
      "_________________________________________________________________\n",
      "batch_normalization_87 (Batc (None, 37, 37, 256)       1024      \n",
      "_________________________________________________________________\n",
      "conv_3_3 (Conv2D)            (None, 37, 37, 256)       65792     \n",
      "_________________________________________________________________\n",
      "batch_normalization_88 (Batc (None, 37, 37, 256)       1024      \n",
      "_________________________________________________________________\n",
      "maxpool_3_1 (MaxPooling2D)   (None, 18, 18, 256)       0         \n",
      "_________________________________________________________________\n",
      "dropout_3_1 (Dropout)        (None, 18, 18, 256)       0         \n",
      "_________________________________________________________________\n",
      "conv_4_1 (Conv2D)            (None, 18, 18, 512)       1180160   \n",
      "_________________________________________________________________\n",
      "batch_normalization_89 (Batc (None, 18, 18, 512)       2048      \n",
      "_________________________________________________________________\n",
      "conv_4_2 (Conv2D)            (None, 18, 18, 512)       262656    \n",
      "_________________________________________________________________\n",
      "batch_normalization_90 (Batc (None, 18, 18, 512)       2048      \n",
      "_________________________________________________________________\n",
      "conv_4_3 (Conv2D)            (None, 18, 18, 512)       262656    \n",
      "_________________________________________________________________\n",
      "batch_normalization_91 (Batc (None, 18, 18, 512)       2048      \n",
      "_________________________________________________________________\n",
      "maxpool_4_1 (MaxPooling2D)   (None, 9, 9, 512)         0         \n",
      "_________________________________________________________________\n",
      "dropout_4_1 (Dropout)        (None, 9, 9, 512)         0         \n",
      "_________________________________________________________________\n",
      "conv_5_1 (Conv2D)            (None, 9, 9, 3)           1539      \n",
      "_________________________________________________________________\n",
      "batch_normalization_92 (Batc (None, 9, 9, 3)           12        \n",
      "_________________________________________________________________\n",
      "global_avg_pooling (GlobalAv (None, 3)                 0         \n",
      "_________________________________________________________________\n",
      "FC_5_1 (Dense)               (None, 3)                 12        \n",
      "_________________________________________________________________\n",
      "softmax_5_1 (Activation)     (None, 3)                 0         \n",
      "=================================================================\n",
      "Total params: 2,268,475\n",
      "Trainable params: 2,262,773\n",
      "Non-trainable params: 5,702\n",
      "_________________________________________________________________\n",
      "None\n"
     ]
    }
   ],
   "source": [
    "model.compile(loss='categorical_crossentropy',\n",
    "              optimizer='adadelta',\n",
    "              metrics=['accuracy'])\n",
    "print(model.summary())"
   ]
  },
  {
   "cell_type": "code",
   "execution_count": 35,
   "metadata": {},
   "outputs": [
    {
     "name": "stdout",
     "output_type": "stream",
     "text": [
      "Epoch 1/20\n",
      "113/112 [==============================] - 1237s 11s/step - loss: 0.4367 - acc: 0.8562 - auc_roc: 0.8743 - val_loss: 0.5631 - val_acc: 0.6842 - val_auc_roc: 0.8992\n",
      "Epoch 2/20\n",
      "113/112 [==============================] - 1212s 11s/step - loss: 0.2624 - acc: 0.9380 - auc_roc: 0.9035 - val_loss: 0.6437 - val_acc: 0.8045 - val_auc_roc: 0.9172\n",
      "Epoch 3/20\n",
      "113/112 [==============================] - 1180s 10s/step - loss: 0.1670 - acc: 0.9701 - auc_roc: 0.9217 - val_loss: 0.5060 - val_acc: 0.7293 - val_auc_roc: 0.9325\n",
      "Epoch 4/20\n",
      "113/112 [==============================] - 1180s 10s/step - loss: 0.1283 - acc: 0.9790 - auc_roc: 0.9391 - val_loss: 0.1671 - val_acc: 0.9323 - val_auc_roc: 0.9493\n",
      "Epoch 5/20\n",
      "113/112 [==============================] - 1180s 10s/step - loss: 0.1221 - acc: 0.9790 - auc_roc: 0.9553 - val_loss: 0.0240 - val_acc: 1.0000 - val_auc_roc: 0.9616\n",
      "Epoch 6/20\n",
      "113/112 [==============================] - 1181s 10s/step - loss: 0.0958 - acc: 0.9801 - auc_roc: 0.9663 - val_loss: 0.0181 - val_acc: 1.0000 - val_auc_roc: 0.9705\n",
      "Epoch 7/20\n",
      "113/112 [==============================] - 1181s 10s/step - loss: 0.0827 - acc: 0.9801 - auc_roc: 0.9737 - val_loss: 0.0208 - val_acc: 1.0000 - val_auc_roc: 0.9765\n",
      "Epoch 8/20\n",
      "113/112 [==============================] - 1180s 10s/step - loss: 0.0631 - acc: 0.9889 - auc_roc: 0.9788 - val_loss: 0.0136 - val_acc: 1.0000 - val_auc_roc: 0.9811\n",
      "Epoch 9/20\n",
      "113/112 [==============================] - 1181s 10s/step - loss: 0.0568 - acc: 0.9889 - auc_roc: 0.9828 - val_loss: 0.0047 - val_acc: 1.0000 - val_auc_roc: 0.9844\n",
      "Epoch 10/20\n",
      "113/112 [==============================] - 1181s 10s/step - loss: 0.0412 - acc: 0.9945 - auc_roc: 0.9857 - val_loss: 0.0068 - val_acc: 1.0000 - val_auc_roc: 0.9870\n",
      "Epoch 11/20\n",
      "113/112 [==============================] - 1180s 10s/step - loss: 0.0414 - acc: 0.9945 - auc_roc: 0.9880 - val_loss: 0.0025 - val_acc: 1.0000 - val_auc_roc: 0.9890\n",
      "Epoch 12/20\n",
      "113/112 [==============================] - 1181s 10s/step - loss: 0.0327 - acc: 0.9967 - auc_roc: 0.9898 - val_loss: 0.0151 - val_acc: 1.0000 - val_auc_roc: 0.9906\n",
      "Epoch 13/20\n",
      "113/112 [==============================] - 1180s 10s/step - loss: 0.0313 - acc: 0.9945 - auc_roc: 0.9912 - val_loss: 0.1980 - val_acc: 0.8421 - val_auc_roc: 0.9916\n",
      "Epoch 14/20\n",
      "113/112 [==============================] - 1180s 10s/step - loss: 0.0264 - acc: 0.9967 - auc_roc: 0.9919 - val_loss: 0.0048 - val_acc: 1.0000 - val_auc_roc: 0.9924\n",
      "Epoch 15/20\n",
      "113/112 [==============================] - 1181s 10s/step - loss: 0.0271 - acc: 0.9934 - auc_roc: 0.9929 - val_loss: 0.0055 - val_acc: 1.0000 - val_auc_roc: 0.9933\n",
      "Epoch 16/20\n",
      "113/112 [==============================] - 1180s 10s/step - loss: 0.0177 - acc: 1.0000 - auc_roc: 0.9937 - val_loss: 0.0032 - val_acc: 1.0000 - val_auc_roc: 0.9941\n",
      "Epoch 17/20\n",
      "113/112 [==============================] - 1180s 10s/step - loss: 0.0159 - acc: 0.9989 - auc_roc: 0.9944 - val_loss: 0.0035 - val_acc: 1.0000 - val_auc_roc: 0.9947\n",
      "Epoch 18/20\n",
      "113/112 [==============================] - 1180s 10s/step - loss: 0.0176 - acc: 0.9989 - auc_roc: 0.9950 - val_loss: 0.0048 - val_acc: 1.0000 - val_auc_roc: 0.9952\n",
      "Epoch 19/20\n",
      "113/112 [==============================] - 1180s 10s/step - loss: 0.0130 - acc: 1.0000 - auc_roc: 0.9955 - val_loss: 0.0010 - val_acc: 1.0000 - val_auc_roc: 0.9957\n",
      "Epoch 20/20\n",
      "113/112 [==============================] - 1179s 10s/step - loss: 0.0134 - acc: 1.0000 - auc_roc: 0.9959 - val_loss: 5.4711e-04 - val_acc: 1.0000 - val_auc_roc: 0.9961\n"
     ]
    },
    {
     "data": {
      "text/plain": [
       "<keras.callbacks.History at 0x7f8dc0697f28>"
      ]
     },
     "execution_count": 35,
     "metadata": {},
     "output_type": "execute_result"
    }
   ],
   "source": [
    "\n",
    "checkpoint = keras.callbacks.ModelCheckpoint(filepath=TRAINED_MODEL_FILE_NAME)\n",
    "model.fit_generator(train_generator, steps_per_epoch= (len(samples1)/4),validation_data=validation_generator, validation_steps=(len(samples2)/4),epochs=20, callbacks=[checkpoint])"
   ]
  },
  {
   "cell_type": "code",
   "execution_count": 15,
   "metadata": {},
   "outputs": [
    {
     "data": {
      "text/plain": [
       "'{\"keras_version\": \"2.0.5\", \"backend\": \"tensorflow\", \"class_name\": \"Sequential\", \"config\": [{\"class_name\": \"Lambda\", \"config\": {\"output_shape_type\": \"raw\", \"output_shape\": null, \"batch_input_shape\": [null, 224, 224, 3], \"name\": \"lambda_1\", \"dtype\": \"float32\", \"trainable\": true, \"function_type\": \"lambda\", \"function\": [\"\\\\u00e3\\\\u0001\\\\u0000\\\\u0000\\\\u0000\\\\u0000\\\\u0000\\\\u0000\\\\u0000\\\\u0001\\\\u0000\\\\u0000\\\\u0000\\\\u0002\\\\u0000\\\\u0000\\\\u0000C\\\\u0000\\\\u0000\\\\u0000s\\\\f\\\\u0000\\\\u0000\\\\u0000|\\\\u0000\\\\u0000d\\\\u0001\\\\u0000\\\\u001bd\\\\u0002\\\\u0000\\\\u0018S)\\\\u0003Ng\\\\u0000\\\\u0000\\\\u0000\\\\u0000\\\\u0000\\\\u00e0o@g\\\\u0000\\\\u0000\\\\u0000\\\\u0000\\\\u0000\\\\u0000\\\\u00e0?\\\\u00a9\\\\u0000)\\\\u0001\\\\u00da\\\\u0001xr\\\\u0001\\\\u0000\\\\u0000\\\\u0000r\\\\u0001\\\\u0000\\\\u0000\\\\u0000\\\\u00fa\\\\u001e<ipython-input-9-28f918963b71>\\\\u00da\\\\b<lambda>\\\\u0002\\\\u0000\\\\u0000\\\\u0000s\\\\u0000\\\\u0000\\\\u0000\\\\u0000\", null, null], \"arguments\": {}}}, {\"class_name\": \"Conv2D\", \"config\": {\"padding\": \"same\", \"filters\": 64, \"bias_constraint\": null, \"kernel_constraint\": null, \"trainable\": true, \"kernel_regularizer\": null, \"dilation_rate\": [1, 1], \"kernel_size\": [3, 3], \"strides\": [1, 1], \"data_format\": \"channels_last\", \"activity_regularizer\": null, \"bias_initializer\": {\"class_name\": \"Zeros\", \"config\": {}}, \"name\": \"conv_1_1\", \"bias_regularizer\": null, \"kernel_initializer\": {\"class_name\": \"VarianceScaling\", \"config\": {\"scale\": 1.0, \"distribution\": \"normal\", \"seed\": null, \"mode\": \"fan_avg\"}}, \"activation\": \"linear\", \"use_bias\": true}}, {\"class_name\": \"BatchNormalization\", \"config\": {\"name\": \"batch_normalization_1\", \"moving_mean_initializer\": {\"class_name\": \"Zeros\", \"config\": {}}, \"trainable\": true, \"beta_regularizer\": null, \"gamma_initializer\": {\"class_name\": \"Ones\", \"config\": {}}, \"axis\": -1, \"momentum\": 0.99, \"gamma_regularizer\": null, \"center\": true, \"epsilon\": 0.001, \"scale\": true, \"beta_constraint\": null, \"gamma_constraint\": null, \"moving_variance_initializer\": {\"class_name\": \"Ones\", \"config\": {}}, \"beta_initializer\": {\"class_name\": \"Zeros\", \"config\": {}}}}, {\"class_name\": \"ELU\", \"config\": {\"trainable\": true, \"name\": \"elu_1_1\", \"alpha\": 1.0}}, {\"class_name\": \"Conv2D\", \"config\": {\"padding\": \"valid\", \"filters\": 64, \"bias_constraint\": null, \"kernel_constraint\": null, \"trainable\": true, \"kernel_regularizer\": null, \"dilation_rate\": [1, 1], \"kernel_size\": [1, 1], \"strides\": [1, 1], \"data_format\": \"channels_last\", \"activity_regularizer\": null, \"bias_initializer\": {\"class_name\": \"Zeros\", \"config\": {}}, \"name\": \"conv_1_2\", \"bias_regularizer\": null, \"kernel_initializer\": {\"class_name\": \"VarianceScaling\", \"config\": {\"scale\": 1.0, \"distribution\": \"normal\", \"seed\": null, \"mode\": \"fan_avg\"}}, \"activation\": \"linear\", \"use_bias\": true}}, {\"class_name\": \"BatchNormalization\", \"config\": {\"name\": \"batch_normalization_2\", \"moving_mean_initializer\": {\"class_name\": \"Zeros\", \"config\": {}}, \"trainable\": true, \"beta_regularizer\": null, \"gamma_initializer\": {\"class_name\": \"Ones\", \"config\": {}}, \"axis\": -1, \"momentum\": 0.99, \"gamma_regularizer\": null, \"center\": true, \"epsilon\": 0.001, \"scale\": true, \"beta_constraint\": null, \"gamma_constraint\": null, \"moving_variance_initializer\": {\"class_name\": \"Ones\", \"config\": {}}, \"beta_initializer\": {\"class_name\": \"Zeros\", \"config\": {}}}}, {\"class_name\": \"ELU\", \"config\": {\"trainable\": true, \"name\": \"elu_1_2\", \"alpha\": 1.0}}, {\"class_name\": \"Conv2D\", \"config\": {\"padding\": \"valid\", \"filters\": 64, \"bias_constraint\": null, \"kernel_constraint\": null, \"trainable\": true, \"kernel_regularizer\": null, \"dilation_rate\": [1, 1], \"kernel_size\": [1, 1], \"strides\": [1, 1], \"data_format\": \"channels_last\", \"activity_regularizer\": null, \"bias_initializer\": {\"class_name\": \"Zeros\", \"config\": {}}, \"name\": \"conv_1_3\", \"bias_regularizer\": null, \"kernel_initializer\": {\"class_name\": \"VarianceScaling\", \"config\": {\"scale\": 1.0, \"distribution\": \"normal\", \"seed\": null, \"mode\": \"fan_avg\"}}, \"activation\": \"linear\", \"use_bias\": true}}, {\"class_name\": \"BatchNormalization\", \"config\": {\"name\": \"batch_normalization_3\", \"moving_mean_initializer\": {\"class_name\": \"Zeros\", \"config\": {}}, \"trainable\": true, \"beta_regularizer\": null, \"gamma_initializer\": {\"class_name\": \"Ones\", \"config\": {}}, \"axis\": -1, \"momentum\": 0.99, \"gamma_regularizer\": null, \"center\": true, \"epsilon\": 0.001, \"scale\": true, \"beta_constraint\": null, \"gamma_constraint\": null, \"moving_variance_initializer\": {\"class_name\": \"Ones\", \"config\": {}}, \"beta_initializer\": {\"class_name\": \"Zeros\", \"config\": {}}}}, {\"class_name\": \"ELU\", \"config\": {\"trainable\": true, \"name\": \"elu_1_3\", \"alpha\": 1.0}}, {\"class_name\": \"MaxPooling2D\", \"config\": {\"strides\": [2, 2], \"padding\": \"valid\", \"data_format\": \"channels_last\", \"pool_size\": [2, 2], \"trainable\": true, \"name\": \"maxpool_1_1\"}}, {\"class_name\": \"Dropout\", \"config\": {\"rate\": 0.5, \"trainable\": true, \"name\": \"dropout_1_1\"}}, {\"class_name\": \"Conv2D\", \"config\": {\"padding\": \"same\", \"filters\": 256, \"bias_constraint\": null, \"kernel_constraint\": null, \"trainable\": true, \"kernel_regularizer\": null, \"dilation_rate\": [1, 1], \"kernel_size\": [3, 3], \"strides\": [1, 1], \"data_format\": \"channels_last\", \"activity_regularizer\": null, \"bias_initializer\": {\"class_name\": \"Zeros\", \"config\": {}}, \"name\": \"conv_3_1\", \"bias_regularizer\": null, \"kernel_initializer\": {\"class_name\": \"VarianceScaling\", \"config\": {\"scale\": 1.0, \"distribution\": \"normal\", \"seed\": null, \"mode\": \"fan_avg\"}}, \"activation\": \"linear\", \"use_bias\": true}}, {\"class_name\": \"BatchNormalization\", \"config\": {\"name\": \"batch_normalization_4\", \"moving_mean_initializer\": {\"class_name\": \"Zeros\", \"config\": {}}, \"trainable\": true, \"beta_regularizer\": null, \"gamma_initializer\": {\"class_name\": \"Ones\", \"config\": {}}, \"axis\": -1, \"momentum\": 0.99, \"gamma_regularizer\": null, \"center\": true, \"epsilon\": 0.001, \"scale\": true, \"beta_constraint\": null, \"gamma_constraint\": null, \"moving_variance_initializer\": {\"class_name\": \"Ones\", \"config\": {}}, \"beta_initializer\": {\"class_name\": \"Zeros\", \"config\": {}}}}, {\"class_name\": \"ELU\", \"config\": {\"trainable\": true, \"name\": \"elu_3_1\", \"alpha\": 1.0}}, {\"class_name\": \"Conv2D\", \"config\": {\"padding\": \"valid\", \"filters\": 256, \"bias_constraint\": null, \"kernel_constraint\": null, \"trainable\": true, \"kernel_regularizer\": null, \"dilation_rate\": [1, 1], \"kernel_size\": [1, 1], \"strides\": [1, 1], \"data_format\": \"channels_last\", \"activity_regularizer\": null, \"bias_initializer\": {\"class_name\": \"Zeros\", \"config\": {}}, \"name\": \"conv_3_2\", \"bias_regularizer\": null, \"kernel_initializer\": {\"class_name\": \"VarianceScaling\", \"config\": {\"scale\": 1.0, \"distribution\": \"normal\", \"seed\": null, \"mode\": \"fan_avg\"}}, \"activation\": \"linear\", \"use_bias\": true}}, {\"class_name\": \"BatchNormalization\", \"config\": {\"name\": \"batch_normalization_5\", \"moving_mean_initializer\": {\"class_name\": \"Zeros\", \"config\": {}}, \"trainable\": true, \"beta_regularizer\": null, \"gamma_initializer\": {\"class_name\": \"Ones\", \"config\": {}}, \"axis\": -1, \"momentum\": 0.99, \"gamma_regularizer\": null, \"center\": true, \"epsilon\": 0.001, \"scale\": true, \"beta_constraint\": null, \"gamma_constraint\": null, \"moving_variance_initializer\": {\"class_name\": \"Ones\", \"config\": {}}, \"beta_initializer\": {\"class_name\": \"Zeros\", \"config\": {}}}}, {\"class_name\": \"ELU\", \"config\": {\"trainable\": true, \"name\": \"elu_3_2\", \"alpha\": 1.0}}, {\"class_name\": \"Conv2D\", \"config\": {\"padding\": \"valid\", \"filters\": 256, \"bias_constraint\": null, \"kernel_constraint\": null, \"trainable\": true, \"kernel_regularizer\": null, \"dilation_rate\": [1, 1], \"kernel_size\": [1, 1], \"strides\": [1, 1], \"data_format\": \"channels_last\", \"activity_regularizer\": null, \"bias_initializer\": {\"class_name\": \"Zeros\", \"config\": {}}, \"name\": \"conv_3_3\", \"bias_regularizer\": null, \"kernel_initializer\": {\"class_name\": \"VarianceScaling\", \"config\": {\"scale\": 1.0, \"distribution\": \"normal\", \"seed\": null, \"mode\": \"fan_avg\"}}, \"activation\": \"linear\", \"use_bias\": true}}, {\"class_name\": \"BatchNormalization\", \"config\": {\"name\": \"batch_normalization_6\", \"moving_mean_initializer\": {\"class_name\": \"Zeros\", \"config\": {}}, \"trainable\": true, \"beta_regularizer\": null, \"gamma_initializer\": {\"class_name\": \"Ones\", \"config\": {}}, \"axis\": -1, \"momentum\": 0.99, \"gamma_regularizer\": null, \"center\": true, \"epsilon\": 0.001, \"scale\": true, \"beta_constraint\": null, \"gamma_constraint\": null, \"moving_variance_initializer\": {\"class_name\": \"Ones\", \"config\": {}}, \"beta_initializer\": {\"class_name\": \"Zeros\", \"config\": {}}}}, {\"class_name\": \"ELU\", \"config\": {\"trainable\": true, \"name\": \"elu_3_3\", \"alpha\": 1.0}}, {\"class_name\": \"MaxPooling2D\", \"config\": {\"strides\": [2, 2], \"padding\": \"valid\", \"data_format\": \"channels_last\", \"pool_size\": [2, 2], \"trainable\": true, \"name\": \"maxpool_3_1\"}}, {\"class_name\": \"Dropout\", \"config\": {\"rate\": 0.5, \"trainable\": true, \"name\": \"dropout_3_1\"}}, {\"class_name\": \"Conv2D\", \"config\": {\"padding\": \"same\", \"filters\": 512, \"bias_constraint\": null, \"kernel_constraint\": null, \"trainable\": true, \"kernel_regularizer\": null, \"dilation_rate\": [1, 1], \"kernel_size\": [3, 3], \"strides\": [1, 1], \"data_format\": \"channels_last\", \"activity_regularizer\": null, \"bias_initializer\": {\"class_name\": \"Zeros\", \"config\": {}}, \"name\": \"conv_4_1\", \"bias_regularizer\": null, \"kernel_initializer\": {\"class_name\": \"VarianceScaling\", \"config\": {\"scale\": 1.0, \"distribution\": \"normal\", \"seed\": null, \"mode\": \"fan_avg\"}}, \"activation\": \"linear\", \"use_bias\": true}}, {\"class_name\": \"BatchNormalization\", \"config\": {\"name\": \"batch_normalization_7\", \"moving_mean_initializer\": {\"class_name\": \"Zeros\", \"config\": {}}, \"trainable\": true, \"beta_regularizer\": null, \"gamma_initializer\": {\"class_name\": \"Ones\", \"config\": {}}, \"axis\": -1, \"momentum\": 0.99, \"gamma_regularizer\": null, \"center\": true, \"epsilon\": 0.001, \"scale\": true, \"beta_constraint\": null, \"gamma_constraint\": null, \"moving_variance_initializer\": {\"class_name\": \"Ones\", \"config\": {}}, \"beta_initializer\": {\"class_name\": \"Zeros\", \"config\": {}}}}, {\"class_name\": \"ELU\", \"config\": {\"trainable\": true, \"name\": \"elu_4_1\", \"alpha\": 1.0}}, {\"class_name\": \"Conv2D\", \"config\": {\"padding\": \"valid\", \"filters\": 512, \"bias_constraint\": null, \"kernel_constraint\": null, \"trainable\": true, \"kernel_regularizer\": null, \"dilation_rate\": [1, 1], \"kernel_size\": [1, 1], \"strides\": [1, 1], \"data_format\": \"channels_last\", \"activity_regularizer\": null, \"bias_initializer\": {\"class_name\": \"Zeros\", \"config\": {}}, \"name\": \"conv_4_2\", \"bias_regularizer\": null, \"kernel_initializer\": {\"class_name\": \"VarianceScaling\", \"config\": {\"scale\": 1.0, \"distribution\": \"normal\", \"seed\": null, \"mode\": \"fan_avg\"}}, \"activation\": \"linear\", \"use_bias\": true}}, {\"class_name\": \"BatchNormalization\", \"config\": {\"name\": \"batch_normalization_8\", \"moving_mean_initializer\": {\"class_name\": \"Zeros\", \"config\": {}}, \"trainable\": true, \"beta_regularizer\": null, \"gamma_initializer\": {\"class_name\": \"Ones\", \"config\": {}}, \"axis\": -1, \"momentum\": 0.99, \"gamma_regularizer\": null, \"center\": true, \"epsilon\": 0.001, \"scale\": true, \"beta_constraint\": null, \"gamma_constraint\": null, \"moving_variance_initializer\": {\"class_name\": \"Ones\", \"config\": {}}, \"beta_initializer\": {\"class_name\": \"Zeros\", \"config\": {}}}}, {\"class_name\": \"ELU\", \"config\": {\"trainable\": true, \"name\": \"elu_4_2\", \"alpha\": 1.0}}, {\"class_name\": \"Conv2D\", \"config\": {\"padding\": \"valid\", \"filters\": 512, \"bias_constraint\": null, \"kernel_constraint\": null, \"trainable\": true, \"kernel_regularizer\": null, \"dilation_rate\": [1, 1], \"kernel_size\": [1, 1], \"strides\": [1, 1], \"data_format\": \"channels_last\", \"activity_regularizer\": null, \"bias_initializer\": {\"class_name\": \"Zeros\", \"config\": {}}, \"name\": \"conv_4_3\", \"bias_regularizer\": null, \"kernel_initializer\": {\"class_name\": \"VarianceScaling\", \"config\": {\"scale\": 1.0, \"distribution\": \"normal\", \"seed\": null, \"mode\": \"fan_avg\"}}, \"activation\": \"linear\", \"use_bias\": true}}, {\"class_name\": \"BatchNormalization\", \"config\": {\"name\": \"batch_normalization_9\", \"moving_mean_initializer\": {\"class_name\": \"Zeros\", \"config\": {}}, \"trainable\": true, \"beta_regularizer\": null, \"gamma_initializer\": {\"class_name\": \"Ones\", \"config\": {}}, \"axis\": -1, \"momentum\": 0.99, \"gamma_regularizer\": null, \"center\": true, \"epsilon\": 0.001, \"scale\": true, \"beta_constraint\": null, \"gamma_constraint\": null, \"moving_variance_initializer\": {\"class_name\": \"Ones\", \"config\": {}}, \"beta_initializer\": {\"class_name\": \"Zeros\", \"config\": {}}}}, {\"class_name\": \"ELU\", \"config\": {\"trainable\": true, \"name\": \"elu_4_3\", \"alpha\": 1.0}}, {\"class_name\": \"MaxPooling2D\", \"config\": {\"strides\": [2, 2], \"padding\": \"valid\", \"data_format\": \"channels_last\", \"pool_size\": [2, 2], \"trainable\": true, \"name\": \"maxpool_4_1\"}}, {\"class_name\": \"Dropout\", \"config\": {\"rate\": 0.5, \"trainable\": true, \"name\": \"dropout_4_1\"}}, {\"class_name\": \"Conv2D\", \"config\": {\"padding\": \"valid\", \"filters\": 4, \"bias_constraint\": null, \"kernel_constraint\": null, \"trainable\": true, \"kernel_regularizer\": null, \"dilation_rate\": [1, 1], \"kernel_size\": [1, 1], \"strides\": [1, 1], \"data_format\": \"channels_last\", \"activity_regularizer\": null, \"bias_initializer\": {\"class_name\": \"Zeros\", \"config\": {}}, \"name\": \"conv_5_1\", \"bias_regularizer\": null, \"kernel_initializer\": {\"class_name\": \"VarianceScaling\", \"config\": {\"scale\": 1.0, \"distribution\": \"normal\", \"seed\": null, \"mode\": \"fan_avg\"}}, \"activation\": \"linear\", \"use_bias\": true}}, {\"class_name\": \"BatchNormalization\", \"config\": {\"name\": \"batch_normalization_10\", \"moving_mean_initializer\": {\"class_name\": \"Zeros\", \"config\": {}}, \"trainable\": true, \"beta_regularizer\": null, \"gamma_initializer\": {\"class_name\": \"Ones\", \"config\": {}}, \"axis\": -1, \"momentum\": 0.99, \"gamma_regularizer\": null, \"center\": true, \"epsilon\": 0.001, \"scale\": true, \"beta_constraint\": null, \"gamma_constraint\": null, \"moving_variance_initializer\": {\"class_name\": \"Ones\", \"config\": {}}, \"beta_initializer\": {\"class_name\": \"Zeros\", \"config\": {}}}}, {\"class_name\": \"ELU\", \"config\": {\"trainable\": true, \"name\": \"elu_5_1\", \"alpha\": 1.0}}, {\"class_name\": \"GlobalAveragePooling2D\", \"config\": {\"trainable\": true, \"name\": \"global_avg_pooling\", \"data_format\": \"channels_last\"}}, {\"class_name\": \"Dense\", \"config\": {\"kernel_initializer\": {\"class_name\": \"VarianceScaling\", \"config\": {\"scale\": 1.0, \"distribution\": \"uniform\", \"seed\": null, \"mode\": \"fan_avg\"}}, \"bias_constraint\": null, \"kernel_constraint\": null, \"trainable\": true, \"kernel_regularizer\": null, \"bias_regularizer\": null, \"units\": 4, \"activity_regularizer\": null, \"bias_initializer\": {\"class_name\": \"Zeros\", \"config\": {}}, \"name\": \"FC_5_1\", \"activation\": \"linear\", \"use_bias\": true}}, {\"class_name\": \"Activation\", \"config\": {\"trainable\": true, \"activation\": \"softmax\", \"name\": \"softmax_5_1\"}}]}'"
      ]
     },
     "execution_count": 15,
     "metadata": {},
     "output_type": "execute_result"
    }
   ],
   "source": [
    "model.to_json()"
   ]
  },
  {
   "cell_type": "code",
   "execution_count": null,
   "metadata": {},
   "outputs": [],
   "source": []
  }
 ],
 "metadata": {
  "kernelspec": {
   "display_name": "GLAUCOMADETECTION",
   "language": "python",
   "name": "maskrcnn"
  },
  "language_info": {
   "codemirror_mode": {
    "name": "ipython",
    "version": 3
   },
   "file_extension": ".py",
   "mimetype": "text/x-python",
   "name": "python",
   "nbconvert_exporter": "python",
   "pygments_lexer": "ipython3",
   "version": "3.6.6"
  }
 },
 "nbformat": 4,
 "nbformat_minor": 2
}
